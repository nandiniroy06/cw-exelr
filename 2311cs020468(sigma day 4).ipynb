{
 "cells": [
  {
   "cell_type": "code",
   "execution_count": null,
   "id": "d8dae144-2b9f-4889-8950-acfb360abdcf",
   "metadata": {},
   "outputs": [],
   "source": []
  }
 ],
 "metadata": {
  "kernelspec": {
   "display_name": "",
   "name": ""
  },
  "language_info": {
   "name": ""
  }
 },
 "nbformat": 4,
 "nbformat_minor": 5
}
