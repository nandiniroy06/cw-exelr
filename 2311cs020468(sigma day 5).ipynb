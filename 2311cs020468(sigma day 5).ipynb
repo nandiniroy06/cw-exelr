{
 "cells": [
  {
   "cell_type": "code",
   "execution_count": null,
   "id": "50e69f1d-688d-4127-b8b9-8cdc599abbd3",
   "metadata": {},
   "outputs": [],
   "source": [
    "# Task 1: Ask the user to enter a positive integer `n`\n",
    "n = int(input(\"Enter a positive integer n: \"))\n",
    "\n",
    "# Task 2: Use a for loop to print all numbers from 1 to n on separate lines\n",
    "print(\"\\nNumbers from 1 to\", n, \"using a for loop:\")\n",
    "for i in range(1, n + 1):\n",
    "    print(i)\n",
    "\n",
    "# Task 3: Use a while loop to calculate the sum of all numbers from 1 to n and print the result\n",
    "sum_of_numbers = 0\n",
    "i = 1\n",
    "while i <= n:\n",
    "    sum_of_numbers += i\n",
    "    i += 1\n",
    "\n",
    "print(\"\\nThe sum of numbers from 1 to\", n, \"is:\", sum_of_numbers)\n"
   ]
  },
  {
   "cell_type": "code",
   "execution_count": null,
   "id": "a4d75984-0de2-4c17-aecf-008dee16af72",
   "metadata": {},
   "outputs": [],
   "source": []
  }
 ],
 "metadata": {
  "kernelspec": {
   "display_name": "Python 3 (ipykernel)",
   "language": "python",
   "name": "python3"
  },
  "language_info": {
   "codemirror_mode": {
    "name": "ipython",
    "version": 3
   },
   "file_extension": ".py",
   "mimetype": "text/x-python",
   "name": "python",
   "nbconvert_exporter": "python",
   "pygments_lexer": "ipython3",
   "version": "3.12.7"
  }
 },
 "nbformat": 4,
 "nbformat_minor": 5
}
