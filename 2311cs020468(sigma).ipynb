{
 "cells": [
  {
   "cell_type": "code",
   "execution_count": 1,
   "id": "6296d463-20ab-455c-8e33-6fbabd861532",
   "metadata": {},
   "outputs": [
    {
     "name": "stdin",
     "output_type": "stream",
     "text": [
      "Enter marks for Subject 1:  45\n",
      "Enter marks for Subject 2:  60\n",
      "Enter marks for Subject 3:  70\n"
     ]
    },
    {
     "name": "stdout",
     "output_type": "stream",
     "text": [
      "Grade: Fail\n"
     ]
    }
   ],
   "source": [
    "# Function to calculate grade based on average marks\n",
    "def calculate_grade():\n",
    "    # Take input for marks in three subjects\n",
    "    subject1 = float(input(\"Enter marks for Subject 1: \"))\n",
    "    subject2 = float(input(\"Enter marks for Subject 2: \"))\n",
    "    subject3 = float(input(\"Enter marks for Subject 3: \"))\n",
    "\n",
    "    # Calculate the average marks\n",
    "    average = (subject1 + subject2 + subject3) / 3\n",
    "\n",
    "    # Determine the grade based on the average\n",
    "    if average >= 90:\n",
    "        grade = \"A\"\n",
    "    elif 80 <= average < 90:\n",
    "        grade = \"B\"\n",
    "    elif 70 <= average < 80:\n",
    "        grade = \"C\"\n",
    "    else:\n",
    "        grade = \"Fail\"\n",
    "\n",
    "    # Print the grade\n",
    "    print(f\"Grade: {grade}\")\n",
    "\n",
    "# Call the function\n",
    "calculate_grade()\n"
   ]
  },
  {
   "cell_type": "code",
   "execution_count": null,
   "id": "f09aa630-7e20-4b75-a3b9-7cab28e8b4e1",
   "metadata": {},
   "outputs": [],
   "source": []
  }
 ],
 "metadata": {
  "kernelspec": {
   "display_name": "Python 3 (ipykernel)",
   "language": "python",
   "name": "python3"
  },
  "language_info": {
   "codemirror_mode": {
    "name": "ipython",
    "version": 3
   },
   "file_extension": ".py",
   "mimetype": "text/x-python",
   "name": "python",
   "nbconvert_exporter": "python",
   "pygments_lexer": "ipython3",
   "version": "3.12.7"
  }
 },
 "nbformat": 4,
 "nbformat_minor": 5
}
