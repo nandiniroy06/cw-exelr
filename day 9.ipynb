{
 "cells": [
  {
   "cell_type": "code",
   "execution_count": 1,
   "id": "d979ac09-b82b-48e4-a6f6-3f2fc63ca64c",
   "metadata": {},
   "outputs": [
    {
     "data": {
      "text/plain": [
       "{101: 4, 102: 7, 103: 2}"
      ]
     },
     "execution_count": 1,
     "metadata": {},
     "output_type": "execute_result"
    }
   ],
   "source": [
    "d = { 101: 4,102: 7,103:2}\n",
    "d"
   ]
  },
  {
   "cell_type": "code",
   "execution_count": 2,
   "id": "dfe97bdf-5451-4ec5-b425-cff34ef5a2d4",
   "metadata": {},
   "outputs": [],
   "source": [
    "d[101]=9"
   ]
  },
  {
   "cell_type": "code",
   "execution_count": 3,
   "id": "7839491c-af2a-4e9a-9f14-743c2f89be85",
   "metadata": {},
   "outputs": [
    {
     "data": {
      "text/plain": [
       "7"
      ]
     },
     "execution_count": 3,
     "metadata": {},
     "output_type": "execute_result"
    }
   ],
   "source": [
    "d.get(102)"
   ]
  },
  {
   "cell_type": "code",
   "execution_count": 9,
   "id": "632c4459-db30-4a6d-8e21-d185dd31ec44",
   "metadata": {},
   "outputs": [
    {
     "data": {
      "text/plain": [
       "{101: 9, 103: 2, 105: 34, 104: 80}"
      ]
     },
     "execution_count": 9,
     "metadata": {},
     "output_type": "execute_result"
    }
   ],
   "source": [
    "d.update({104:80})\n",
    "d"
   ]
  },
  {
   "cell_type": "code",
   "execution_count": 6,
   "id": "497f5dbc-80b3-4b5a-a226-fc9ae56e5593",
   "metadata": {},
   "outputs": [],
   "source": [
    "del d[102]"
   ]
  },
  {
   "cell_type": "code",
   "execution_count": 10,
   "id": "dd50a293-ba56-4433-9397-8c0e2fe8c03d",
   "metadata": {},
   "outputs": [
    {
     "data": {
      "text/plain": [
       "{101: 9, 103: 2, 105: 33, 104: 80}"
      ]
     },
     "execution_count": 10,
     "metadata": {},
     "output_type": "execute_result"
    }
   ],
   "source": [
    "d.update({105:33})\n",
    "d"
   ]
  },
  {
   "cell_type": "markdown",
   "id": "922ffdb0-e3da-4c53-8e57-239dea00f025",
   "metadata": {},
   "source": [
    "d[101]=5000"
   ]
  },
  {
   "cell_type": "code",
   "execution_count": 12,
   "id": "41ac14a8-34a7-4819-9d75-3b41f0201e31",
   "metadata": {},
   "outputs": [
    {
     "data": {
      "text/plain": [
       "{101: 500, 103: 2, 105: 33, 104: 80}"
      ]
     },
     "execution_count": 12,
     "metadata": {},
     "output_type": "execute_result"
    }
   ],
   "source": [
    "d[101]=500\n",
    "d"
   ]
  },
  {
   "cell_type": "code",
   "execution_count": 13,
   "id": "27aca161-f014-49f4-8b04-5ca91f779418",
   "metadata": {},
   "outputs": [
    {
     "data": {
      "text/plain": [
       "{101: 500, 103: 2, 105: 33, 104: [1000, 5000, 6000]}"
      ]
     },
     "execution_count": 13,
     "metadata": {},
     "output_type": "execute_result"
    }
   ],
   "source": [
    "d[104]=[1000,5000,6000]\n",
    "d"
   ]
  },
  {
   "cell_type": "code",
   "execution_count": 15,
   "id": "63f8ad85-e660-43ba-9fc6-9c6f64d7ef52",
   "metadata": {},
   "outputs": [
    {
     "data": {
      "text/plain": [
       "[1000, 5000, 6000]"
      ]
     },
     "execution_count": 15,
     "metadata": {},
     "output_type": "execute_result"
    }
   ],
   "source": [
    "d[104]"
   ]
  },
  {
   "cell_type": "code",
   "execution_count": 16,
   "id": "0ae5984b-a5c2-4f09-a490-b449dfc4d833",
   "metadata": {},
   "outputs": [
    {
     "data": {
      "text/plain": [
       "6000"
      ]
     },
     "execution_count": 16,
     "metadata": {},
     "output_type": "execute_result"
    }
   ],
   "source": [
    "d[104][2]"
   ]
  },
  {
   "cell_type": "code",
   "execution_count": 17,
   "id": "ef988486-25ff-4200-b1ff-4e62299465e9",
   "metadata": {},
   "outputs": [
    {
     "data": {
      "text/plain": [
       "[1000, 5000, 6000]"
      ]
     },
     "execution_count": 17,
     "metadata": {},
     "output_type": "execute_result"
    }
   ],
   "source": [
    "d[104][0:3]"
   ]
  },
  {
   "cell_type": "code",
   "execution_count": 18,
   "id": "943a7e56-3eeb-4aa5-8e2f-36680cccb04b",
   "metadata": {},
   "outputs": [
    {
     "data": {
      "text/plain": [
       "{101: 500, 103: (30, 40, 50, 60, 70), 105: 33, 104: [1000, 5000, 6000]}"
      ]
     },
     "execution_count": 18,
     "metadata": {},
     "output_type": "execute_result"
    }
   ],
   "source": [
    "d.update({103:(30,40,50,60,70)})\n",
    "d"
   ]
  },
  {
   "cell_type": "code",
   "execution_count": 19,
   "id": "051c1801-87f5-4036-a698-02834d110729",
   "metadata": {},
   "outputs": [
    {
     "data": {
      "text/plain": [
       "(30, 40, 50, 60, 70)"
      ]
     },
     "execution_count": 19,
     "metadata": {},
     "output_type": "execute_result"
    }
   ],
   "source": [
    "d[103]"
   ]
  },
  {
   "cell_type": "code",
   "execution_count": 22,
   "id": "369b226b-5abf-4bab-a9cd-1b4d1c76c491",
   "metadata": {},
   "outputs": [
    {
     "data": {
      "text/plain": [
       "{101: 500, 103: (30, 40, 50, 60, 70), 105: 33, 104: [1000, 5000, 6000, 5]}"
      ]
     },
     "execution_count": 22,
     "metadata": {},
     "output_type": "execute_result"
    }
   ],
   "source": [
    "d[104].append(5)\n",
    "d"
   ]
  },
  {
   "cell_type": "code",
   "execution_count": 24,
   "id": "a1e50236-50af-4f78-95b2-00980350dba0",
   "metadata": {},
   "outputs": [
    {
     "data": {
      "text/plain": [
       "{101: 500,\n",
       " 103: (30, 40, 50, 60, 70),\n",
       " 105: 33,\n",
       " 104: [1000, 5000, 6000, 5, 6, 6]}"
      ]
     },
     "execution_count": 24,
     "metadata": {},
     "output_type": "execute_result"
    }
   ],
   "source": [
    "d[104].append(6)\n",
    "d"
   ]
  },
  {
   "cell_type": "code",
   "execution_count": 25,
   "id": "e367172b-8d01-403a-be38-700fbd7fdfbf",
   "metadata": {},
   "outputs": [
    {
     "data": {
      "text/plain": [
       "{101: 500,\n",
       " 103: (30, 40, 50, 60, 70),\n",
       " 105: 33,\n",
       " 104: [1000, 5000, 6000, 5, 6, 6, 7]}"
      ]
     },
     "execution_count": 25,
     "metadata": {},
     "output_type": "execute_result"
    }
   ],
   "source": [
    "d[104].append(7)\n",
    "d"
   ]
  },
  {
   "cell_type": "code",
   "execution_count": 32,
   "id": "71526530-065d-4c7e-8cb8-26ae196377ac",
   "metadata": {},
   "outputs": [
    {
     "ename": "SyntaxError",
     "evalue": "':' expected after dictionary key (3414309462.py, line 1)",
     "output_type": "error",
     "traceback": [
      "\u001b[1;36m  Cell \u001b[1;32mIn[32], line 1\u001b[1;36m\u001b[0m\n\u001b[1;33m    d[105]={'a':{30,40,50}, 'b':(1000,5000,6000,7000,9000),'c':['K',{'L':[11,22],'M':(77,88),'N'}]}\u001b[0m\n\u001b[1;37m                                                                                               ^\u001b[0m\n\u001b[1;31mSyntaxError\u001b[0m\u001b[1;31m:\u001b[0m ':' expected after dictionary key\n"
     ]
    }
   ],
   "source": [
    "d[105]={'a':{30,40,50}, 'b':(1000,5000,6000,7000,9000),'c':['K',{'L':[11,22],'M':(77,88),'N'}]}\n",
    "d"
   ]
  },
  {
   "cell_type": "code",
   "execution_count": 3,
   "id": "69a3f1b0-f76c-4128-886f-aaa6b8e0119f",
   "metadata": {},
   "outputs": [
    {
     "name": "stdout",
     "output_type": "stream",
     "text": [
      "odd\n"
     ]
    }
   ],
   "source": [
    "x=9\n",
    "if x%2==0:\n",
    "   print(\"even\")\n",
    "else:\n",
    "   print(\"odd\")"
   ]
  },
  {
   "cell_type": "code",
   "execution_count": 4,
   "id": "8f2a46ae-3fa6-4fe7-8d54-07f12c4e3a93",
   "metadata": {},
   "outputs": [
    {
     "data": {
      "text/plain": [
       "'234'"
      ]
     },
     "execution_count": 4,
     "metadata": {},
     "output_type": "execute_result"
    }
   ],
   "source": [
    "y='234'\n",
    "y"
   ]
  },
  {
   "cell_type": "code",
   "execution_count": 5,
   "id": "bfb8373e-1815-4eb2-a12e-0b86342ad6e5",
   "metadata": {},
   "outputs": [
    {
     "data": {
      "text/plain": [
       "True"
      ]
     },
     "execution_count": 5,
     "metadata": {},
     "output_type": "execute_result"
    }
   ],
   "source": [
    "y.isdigit()"
   ]
  },
  {
   "cell_type": "code",
   "execution_count": 6,
   "id": "9fcefb83-8466-4d39-92aa-10d245811f38",
   "metadata": {},
   "outputs": [
    {
     "data": {
      "text/plain": [
       "False"
      ]
     },
     "execution_count": 6,
     "metadata": {},
     "output_type": "execute_result"
    }
   ],
   "source": [
    "y.isalpha()"
   ]
  },
  {
   "cell_type": "code",
   "execution_count": 7,
   "id": "28a7533c-7392-4dad-8fd4-0abbd1776a63",
   "metadata": {},
   "outputs": [],
   "source": [
    "name='Mirza'"
   ]
  },
  {
   "cell_type": "code",
   "execution_count": 12,
   "id": "add4cdec-6c09-4134-b365-b4d7298d3a8c",
   "metadata": {},
   "outputs": [
    {
     "name": "stdout",
     "output_type": "stream",
     "text": [
      "Name should not contain digits and symbols\n"
     ]
    }
   ],
   "source": [
    "if name.isalpha()==True:\n",
    "    print('Accept')\n",
    "else:\n",
    "    print('Name should not contain digits and symbols')"
   ]
  },
  {
   "cell_type": "code",
   "execution_count": 13,
   "id": "3e610375-1158-4cf5-b29d-37515a86daaf",
   "metadata": {},
   "outputs": [
    {
     "data": {
      "text/plain": [
       "True"
      ]
     },
     "execution_count": 13,
     "metadata": {},
     "output_type": "execute_result"
    }
   ],
   "source": [
    "bool(name.lower())"
   ]
  },
  {
   "cell_type": "code",
   "execution_count": 14,
   "id": "11901292-3c1c-456f-8f0d-8c0286131358",
   "metadata": {},
   "outputs": [
    {
     "data": {
      "text/plain": [
       "True"
      ]
     },
     "execution_count": 14,
     "metadata": {},
     "output_type": "execute_result"
    }
   ],
   "source": [
    "bool(6875)"
   ]
  },
  {
   "cell_type": "code",
   "execution_count": 15,
   "id": "54c11c6f-5ee9-43ed-8c63-f524ea7fcc21",
   "metadata": {},
   "outputs": [
    {
     "data": {
      "text/plain": [
       "'Telengana'"
      ]
     },
     "execution_count": 15,
     "metadata": {},
     "output_type": "execute_result"
    }
   ],
   "source": [
    "x='Telengana'\n",
    "x"
   ]
  },
  {
   "cell_type": "code",
   "execution_count": 16,
   "id": "a4af6233-5cb2-4541-89c2-ba41add0e545",
   "metadata": {},
   "outputs": [
    {
     "data": {
      "text/plain": [
       "'mumbai'"
      ]
     },
     "execution_count": 16,
     "metadata": {},
     "output_type": "execute_result"
    }
   ],
   "source": [
    "x='mumbai'\n",
    "x"
   ]
  },
  {
   "cell_type": "code",
   "execution_count": 17,
   "id": "452edad4-e003-4d4b-89bf-d2af8982e4bc",
   "metadata": {},
   "outputs": [
    {
     "data": {
      "text/plain": [
       "'Maharashtra'"
      ]
     },
     "execution_count": 17,
     "metadata": {},
     "output_type": "execute_result"
    }
   ],
   "source": [
    "x='Maharashtra'\n",
    "x"
   ]
  },
  {
   "cell_type": "code",
   "execution_count": 18,
   "id": "78489fec-b01b-4285-a54e-60e4e10bf2ad",
   "metadata": {},
   "outputs": [
    {
     "data": {
      "text/plain": [
       "'telengana'"
      ]
     },
     "execution_count": 18,
     "metadata": {},
     "output_type": "execute_result"
    }
   ],
   "source": [
    "x='telengana'\n",
    "x"
   ]
  },
  {
   "cell_type": "code",
   "execution_count": 19,
   "id": "99e60ffc-432f-42b6-8f27-6d700cd3a782",
   "metadata": {},
   "outputs": [
    {
     "data": {
      "text/plain": [
       "'kjgkhb'"
      ]
     },
     "execution_count": 19,
     "metadata": {},
     "output_type": "execute_result"
    }
   ],
   "source": [
    "x='kjgkhb'\n",
    "x"
   ]
  },
  {
   "cell_type": "code",
   "execution_count": 33,
   "id": "a34f0d1e-8429-4e8e-b9e9-80e056a0ff8d",
   "metadata": {},
   "outputs": [
    {
     "name": "stdout",
     "output_type": "stream",
     "text": [
      "x\n"
     ]
    }
   ],
   "source": [
    "x='mumbai'\n",
    "if x[0].lower() in ('s','h','m'):\n",
    "   print('x')\n",
    "else:\n",
    "    print('y')"
   ]
  },
  {
   "cell_type": "code",
   "execution_count": 27,
   "id": "1c906ea1-8025-4c85-a6d2-6ef090586c66",
   "metadata": {},
   "outputs": [
    {
     "data": {
      "text/plain": [
       "True"
      ]
     },
     "execution_count": 27,
     "metadata": {},
     "output_type": "execute_result"
    }
   ],
   "source": [
    "x[0].lower()=='m'"
   ]
  },
  {
   "cell_type": "code",
   "execution_count": 1,
   "id": "dc72e013-0cc2-4d5a-a123-ee89c156a1ec",
   "metadata": {},
   "outputs": [],
   "source": [
    "import numpy as np"
   ]
  },
  {
   "cell_type": "code",
   "execution_count": 2,
   "id": "6daaa35e-1779-489f-9bfa-1210202f9a79",
   "metadata": {},
   "outputs": [
    {
     "ename": "SyntaxError",
     "evalue": "invalid syntax (621149765.py, line 1)",
     "output_type": "error",
     "traceback": [
      "\u001b[1;36m  Cell \u001b[1;32mIn[2], line 1\u001b[1;36m\u001b[0m\n\u001b[1;33m    numpy  array operat/ions\u001b[0m\n\u001b[1;37m           ^\u001b[0m\n\u001b[1;31mSyntaxError\u001b[0m\u001b[1;31m:\u001b[0m invalid syntax\n"
     ]
    }
   ],
   "source": [
    "numpy  array operat/ions\n",
    "pandas data menipulation and analysis\n",
    "matplotlib and seaborn graphical analysis\n",
    "sklearn ml algorithms and tachniques\n",
    "statsmodels statistical analysis\n",
    "scipy statistical analysis"
   ]
  },
  {
   "cell_type": "code",
   "execution_count": 13,
   "id": "b7d8524a-3d2f-4baa-bdf5-1aae84c65f43",
   "metadata": {},
   "outputs": [
    {
     "data": {
      "text/plain": [
       "[5, 7, 2, 8, 4, 7]"
      ]
     },
     "execution_count": 13,
     "metadata": {},
     "output_type": "execute_result"
    }
   ],
   "source": [
    "j=[5,7,2,8,4,7]\n",
    "j"
   ]
  },
  {
   "cell_type": "code",
   "execution_count": 5,
   "id": "5363bce0-0fd2-4954-8386-8c2471f9b63a",
   "metadata": {},
   "outputs": [
    {
     "data": {
      "text/plain": [
       "array([5, 7, 2, 8, 4])"
      ]
     },
     "execution_count": 5,
     "metadata": {},
     "output_type": "execute_result"
    }
   ],
   "source": [
    "d=np.array(j)\n",
    "d"
   ]
  },
  {
   "cell_type": "code",
   "execution_count": 6,
   "id": "258ea839-3373-483a-90fa-186a5bd9d479",
   "metadata": {},
   "outputs": [
    {
     "data": {
      "text/plain": [
       "numpy.ndarray"
      ]
     },
     "execution_count": 6,
     "metadata": {},
     "output_type": "execute_result"
    }
   ],
   "source": [
    "type(d)"
   ]
  },
  {
   "cell_type": "code",
   "execution_count": 14,
   "id": "ccf48cb6-31a9-4a8a-90e3-7908c16cdf07",
   "metadata": {},
   "outputs": [
    {
     "data": {
      "text/plain": [
       "(5, 7, 2, 8, 4, 7)"
      ]
     },
     "execution_count": 14,
     "metadata": {},
     "output_type": "execute_result"
    }
   ],
   "source": [
    "tuple(j)"
   ]
  },
  {
   "cell_type": "code",
   "execution_count": 8,
   "id": "a8df9670-1999-4a7c-838a-2cef9cf2ae15",
   "metadata": {},
   "outputs": [
    {
     "data": {
      "text/plain": [
       "5"
      ]
     },
     "execution_count": 8,
     "metadata": {},
     "output_type": "execute_result"
    }
   ],
   "source": [
    "d.size"
   ]
  },
  {
   "cell_type": "code",
   "execution_count": 15,
   "id": "89047152-6eec-4767-8d69-e24796d315b2",
   "metadata": {},
   "outputs": [
    {
     "ename": "ValueError",
     "evalue": "cannot reshape array of size 5 into shape (5,2)",
     "output_type": "error",
     "traceback": [
      "\u001b[1;31m---------------------------------------------------------------------------\u001b[0m",
      "\u001b[1;31mValueError\u001b[0m                                Traceback (most recent call last)",
      "Cell \u001b[1;32mIn[15], line 1\u001b[0m\n\u001b[1;32m----> 1\u001b[0m d\u001b[38;5;241m.\u001b[39mreshape(\u001b[38;5;241m5\u001b[39m,\u001b[38;5;241m2\u001b[39m)\n",
      "\u001b[1;31mValueError\u001b[0m: cannot reshape array of size 5 into shape (5,2)"
     ]
    }
   ],
   "source": [
    "d.reshape(5,2)"
   ]
  },
  {
   "cell_type": "code",
   "execution_count": 16,
   "id": "78f2ce78-e05e-488b-ba18-ae86c9755c10",
   "metadata": {},
   "outputs": [
    {
     "ename": "ValueError",
     "evalue": "cannot reshape array of size 5 into shape (2,3)",
     "output_type": "error",
     "traceback": [
      "\u001b[1;31m---------------------------------------------------------------------------\u001b[0m",
      "\u001b[1;31mValueError\u001b[0m                                Traceback (most recent call last)",
      "Cell \u001b[1;32mIn[16], line 1\u001b[0m\n\u001b[1;32m----> 1\u001b[0m h\u001b[38;5;241m=\u001b[39md\u001b[38;5;241m.\u001b[39mreshape(\u001b[38;5;241m2\u001b[39m,\u001b[38;5;241m3\u001b[39m)\n\u001b[0;32m      2\u001b[0m h\n",
      "\u001b[1;31mValueError\u001b[0m: cannot reshape array of size 5 into shape (2,3)"
     ]
    }
   ],
   "source": [
    "h=d.reshape(2,3)\n",
    "h"
   ]
  },
  {
   "cell_type": "code",
   "execution_count": 17,
   "id": "69737eff-74c9-45bf-a18d-bd9e751ed73b",
   "metadata": {},
   "outputs": [
    {
     "ename": "NameError",
     "evalue": "name 'h' is not defined",
     "output_type": "error",
     "traceback": [
      "\u001b[1;31m---------------------------------------------------------------------------\u001b[0m",
      "\u001b[1;31mNameError\u001b[0m                                 Traceback (most recent call last)",
      "Cell \u001b[1;32mIn[17], line 1\u001b[0m\n\u001b[1;32m----> 1\u001b[0m h\u001b[38;5;241m.\u001b[39msize\n",
      "\u001b[1;31mNameError\u001b[0m: name 'h' is not defined"
     ]
    }
   ],
   "source": [
    "h.size"
   ]
  },
  {
   "cell_type": "code",
   "execution_count": 18,
   "id": "cbe450a9-d207-47b8-b7d2-c98ae1e35be1",
   "metadata": {},
   "outputs": [
    {
     "data": {
      "text/plain": [
       "[5, 87, 23, 46, 62, 84, 80, 45, 77, 80]"
      ]
     },
     "execution_count": 18,
     "metadata": {},
     "output_type": "execute_result"
    }
   ],
   "source": [
    "j=[5,87,23,46,62,84,80,45,77,80]\n",
    "j"
   ]
  },
  {
   "cell_type": "code",
   "execution_count": null,
   "id": "6917c7ca-f597-4e6e-a6df-1d47f9b2177b",
   "metadata": {},
   "outputs": [],
   "source": [
    "y=[]\n",
    "x=[]\n",
    "for i in range(len(j)):\n",
    "    if i%2==0:"
   ]
  },
  {
   "cell_type": "code",
   "execution_count": 1,
   "id": "6f0e248d-3876-4065-b170-7ab3d0065578",
   "metadata": {},
   "outputs": [
    {
     "ename": "NameError",
     "evalue": "name 'np' is not defined",
     "output_type": "error",
     "traceback": [
      "\u001b[1;31m---------------------------------------------------------------------------\u001b[0m",
      "\u001b[1;31mNameError\u001b[0m                                 Traceback (most recent call last)",
      "Cell \u001b[1;32mIn[1], line 1\u001b[0m\n\u001b[1;32m----> 1\u001b[0m Q1\u001b[38;5;241m=\u001b[39mnp\u001b[38;5;241m.\u001b[39mquantile(d,\u001b[38;5;241m0.25\u001b[39m)\n\u001b[0;32m      2\u001b[0m Q2\u001b[38;5;241m=\u001b[39mnp\u001b[38;5;241m.\u001b[39mquantile(d,\u001b[38;5;241m0.50\u001b[39m)\n\u001b[0;32m      3\u001b[0m Q3\u001b[38;5;241m=\u001b[39mnp\u001b[38;5;241m.\u001b[39mquantile(d,\u001b[38;5;241m0.75\u001b[39m)\n",
      "\u001b[1;31mNameError\u001b[0m: name 'np' is not defined"
     ]
    }
   ],
   "source": [
    "Q1=np.quantile(d,0.25)\n",
    "Q2=np.quantile(d,0.50)\n",
    "Q3=np.quantile(d,0.75)"
   ]
  },
  {
   "cell_type": "code",
   "execution_count": 3,
   "id": "56bd172f-4b0b-4194-ad1b-1e904d658e9d",
   "metadata": {},
   "outputs": [
    {
     "ename": "NameError",
     "evalue": "name 'numpy' is not defined",
     "output_type": "error",
     "traceback": [
      "\u001b[1;31m---------------------------------------------------------------------------\u001b[0m",
      "\u001b[1;31mNameError\u001b[0m                                 Traceback (most recent call last)",
      "Cell \u001b[1;32mIn[3], line 1\u001b[0m\n\u001b[1;32m----> 1\u001b[0m r\u001b[38;5;241m=\u001b[39mnumpy\u001b[38;5;241m.\u001b[39mrandom\u001b[38;5;241m.\u001b[39mrand(\u001b[38;5;241m100\u001b[39m)\n",
      "\u001b[1;31mNameError\u001b[0m: name 'numpy' is not defined"
     ]
    }
   ],
   "source": [
    "r=numpy.random.rand(100)"
   ]
  },
  {
   "cell_type": "code",
   "execution_count": 4,
   "id": "b82f04ef-07d9-40a2-8704-738be5508cbc",
   "metadata": {},
   "outputs": [
    {
     "ename": "NameError",
     "evalue": "name 'np' is not defined",
     "output_type": "error",
     "traceback": [
      "\u001b[1;31m---------------------------------------------------------------------------\u001b[0m",
      "\u001b[1;31mNameError\u001b[0m                                 Traceback (most recent call last)",
      "Cell \u001b[1;32mIn[4], line 1\u001b[0m\n\u001b[1;32m----> 1\u001b[0m a\u001b[38;5;241m=\u001b[39mnp\u001b[38;5;241m.\u001b[39mrandom\u001b[38;5;241m.\u001b[39mrandit(\u001b[38;5;241m20\u001b[39m,\u001b[38;5;241m60\u001b[39m,\u001b[38;5;241m15\u001b[39m)\n\u001b[0;32m      2\u001b[0m a\n",
      "\u001b[1;31mNameError\u001b[0m: name 'np' is not defined"
     ]
    }
   ],
   "source": [
    "a=np.random.randit(20,60,15)\n",
    "a"
   ]
  },
  {
   "cell_type": "code",
   "execution_count": 1,
   "id": "2df6b2e1-260d-44b0-97c8-35330745f796",
   "metadata": {},
   "outputs": [
    {
     "ename": "SyntaxError",
     "evalue": "closing parenthesis ')' does not match opening parenthesis '[' (347570757.py, line 1)",
     "output_type": "error",
     "traceback": [
      "\u001b[1;36m  Cell \u001b[1;32mIn[1], line 1\u001b[1;36m\u001b[0m\n\u001b[1;33m    array([24,53,48,47,52,39,35,48,31,42,30,39,45,32)]\u001b[0m\n\u001b[1;37m                                                    ^\u001b[0m\n\u001b[1;31mSyntaxError\u001b[0m\u001b[1;31m:\u001b[0m closing parenthesis ')' does not match opening parenthesis '['\n"
     ]
    }
   ],
   "source": [
    "array([24,53,48,47,52,39,35,48,31,42,30,39,45,32)]"
   ]
  },
  {
   "cell_type": "code",
   "execution_count": 3,
   "id": "7055b2f2-323b-43bb-b7af-e2a9ae221558",
   "metadata": {},
   "outputs": [
    {
     "ename": "NameError",
     "evalue": "name 'a' is not defined",
     "output_type": "error",
     "traceback": [
      "\u001b[1;31m---------------------------------------------------------------------------\u001b[0m",
      "\u001b[1;31mNameError\u001b[0m                                 Traceback (most recent call last)",
      "Cell \u001b[1;32mIn[3], line 1\u001b[0m\n\u001b[1;32m----> 1\u001b[0m a\n",
      "\u001b[1;31mNameError\u001b[0m: name 'a' is not defined"
     ]
    }
   ],
   "source": [
    "a"
   ]
  },
  {
   "cell_type": "code",
   "execution_count": 5,
   "id": "b1b15a4b-ae47-42f6-bdc0-e5359ee476eb",
   "metadata": {},
   "outputs": [
    {
     "data": {
      "text/plain": [
       "[24, 53, 48, 47, 52, 39, 35, 48, 31, 42, 30, 39, 45, 32]"
      ]
     },
     "execution_count": 5,
     "metadata": {},
     "output_type": "execute_result"
    }
   ],
   "source": [
    "a=[24,53,48,47,52,39,35,48,31,42,30,39,45,32]\n",
    "a"
   ]
  },
  {
   "cell_type": "code",
   "execution_count": 6,
   "id": "aeac2411-4024-4c76-b913-86039e0d63db",
   "metadata": {},
   "outputs": [
    {
     "data": {
      "text/plain": [
       "30"
      ]
     },
     "execution_count": 6,
     "metadata": {},
     "output_type": "execute_result"
    }
   ],
   "source": [
    "a[-4]"
   ]
  },
  {
   "cell_type": "code",
   "execution_count": 8,
   "id": "2b1c0b6f-e4df-49da-a4ea-b779cf7e4ee3",
   "metadata": {},
   "outputs": [],
   "source": [
    "import numpy as np"
   ]
  },
  {
   "cell_type": "code",
   "execution_count": 10,
   "id": "2424d1a2-24b8-411d-be6f-140ed7494601",
   "metadata": {},
   "outputs": [
    {
     "data": {
      "text/plain": [
       "array([[63, 45, 48, 67, 74, 64, 61, 53],\n",
       "       [61, 59, 55, 77, 69, 69, 48, 60],\n",
       "       [71, 56, 51, 58, 59, 47, 68, 77],\n",
       "       [46, 45, 52, 74, 65, 53, 60, 55],\n",
       "       [64, 72, 46, 69, 65, 75, 75, 51],\n",
       "       [75, 67, 53, 77, 60, 67, 67, 47],\n",
       "       [75, 54, 74, 69, 54, 64, 52, 61]])"
      ]
     },
     "execution_count": 10,
     "metadata": {},
     "output_type": "execute_result"
    }
   ],
   "source": [
    "np.random.seed(94)\n",
    "b=np.random.randint(45,78,(7,8))\n",
    "b"
   ]
  },
  {
   "cell_type": "code",
   "execution_count": 11,
   "id": "1ab1fc64-6bfd-454e-b47d-33e13ac09a30",
   "metadata": {},
   "outputs": [
    {
     "data": {
      "text/plain": [
       "array([71, 56, 51, 58, 59, 47, 68, 77])"
      ]
     },
     "execution_count": 11,
     "metadata": {},
     "output_type": "execute_result"
    }
   ],
   "source": [
    "b[2]"
   ]
  },
  {
   "cell_type": "code",
   "execution_count": 12,
   "id": "1eec7178-e8a0-424d-9248-d4da148e37c4",
   "metadata": {},
   "outputs": [
    {
     "data": {
      "text/plain": [
       "array([53, 60, 77, 55, 51, 47, 61])"
      ]
     },
     "execution_count": 12,
     "metadata": {},
     "output_type": "execute_result"
    }
   ],
   "source": [
    "b[:,7]"
   ]
  },
  {
   "cell_type": "code",
   "execution_count": 13,
   "id": "7f24df84-6c5b-4ffc-98b7-bd8e68be424e",
   "metadata": {},
   "outputs": [
    {
     "data": {
      "text/plain": [
       "array([67, 77, 58, 74, 69, 77, 69])"
      ]
     },
     "execution_count": 13,
     "metadata": {},
     "output_type": "execute_result"
    }
   ],
   "source": [
    "b[:,3]"
   ]
  },
  {
   "cell_type": "code",
   "execution_count": 14,
   "id": "71934a08-e2cd-4e8c-be0c-310236be1ce4",
   "metadata": {},
   "outputs": [
    {
     "data": {
      "text/plain": [
       "77"
      ]
     },
     "execution_count": 14,
     "metadata": {},
     "output_type": "execute_result"
    }
   ],
   "source": [
    "b[1,3]"
   ]
  },
  {
   "cell_type": "code",
   "execution_count": 15,
   "id": "868dabb1-4650-4339-9109-9eb2e1975567",
   "metadata": {},
   "outputs": [
    {
     "data": {
      "text/plain": [
       "array([56, 51, 58, 59, 47])"
      ]
     },
     "execution_count": 15,
     "metadata": {},
     "output_type": "execute_result"
    }
   ],
   "source": [
    "b[2,1:6]"
   ]
  },
  {
   "cell_type": "code",
   "execution_count": 16,
   "id": "937455e6-3e08-42d0-bd27-7e825262ef4f",
   "metadata": {},
   "outputs": [
    {
     "data": {
      "text/plain": [
       "array([[59, 55, 77, 69, 69],\n",
       "       [45, 52, 74, 65, 53],\n",
       "       [67, 53, 77, 60, 67]])"
      ]
     },
     "execution_count": 16,
     "metadata": {},
     "output_type": "execute_result"
    }
   ],
   "source": [
    "b[1:6:2,1:6]"
   ]
  },
  {
   "cell_type": "code",
   "execution_count": 1,
   "id": "30482f0c-0df2-47de-84a7-8944b3c0881c",
   "metadata": {},
   "outputs": [],
   "source": [
    "import pandas as pd\n",
    "import numpy as np\n",
    "import seaborn as sns"
   ]
  },
  {
   "cell_type": "code",
   "execution_count": 12,
   "id": "74f484fa-6a30-4407-a3d0-9a3ca8a80621",
   "metadata": {},
   "outputs": [
    {
     "data": {
      "text/plain": [
       "[4, 6, 2, 9, 87, 40, 20, 55]"
      ]
     },
     "execution_count": 12,
     "metadata": {},
     "output_type": "execute_result"
    }
   ],
   "source": [
    "k=[4,6,2,9,87,40,20,55]\n",
    "k"
   ]
  },
  {
   "cell_type": "code",
   "execution_count": 2,
   "id": "4138e990-3863-4877-9109-6d1d321441d2",
   "metadata": {},
   "outputs": [
    {
     "data": {
      "text/plain": [
       "['anagrams',\n",
       " 'anscombe',\n",
       " 'attention',\n",
       " 'brain_networks',\n",
       " 'car_crashes',\n",
       " 'diamonds',\n",
       " 'dots',\n",
       " 'dowjones',\n",
       " 'exercise',\n",
       " 'flights',\n",
       " 'fmri',\n",
       " 'geyser',\n",
       " 'glue',\n",
       " 'healthexp',\n",
       " 'iris',\n",
       " 'mpg',\n",
       " 'penguins',\n",
       " 'planets',\n",
       " 'seaice',\n",
       " 'taxis',\n",
       " 'tips',\n",
       " 'titanic']"
      ]
     },
     "execution_count": 2,
     "metadata": {},
     "output_type": "execute_result"
    }
   ],
   "source": [
    "sns.get_dataset_names()"
   ]
  },
  {
   "cell_type": "code",
   "execution_count": 13,
   "id": "fdd2776a-232a-4639-aebd-32ff0232676b",
   "metadata": {},
   "outputs": [
    {
     "ename": "AttributeError",
     "evalue": "module 'pandas' has no attribute 'series'",
     "output_type": "error",
     "traceback": [
      "\u001b[1;31m---------------------------------------------------------------------------\u001b[0m",
      "\u001b[1;31mAttributeError\u001b[0m                            Traceback (most recent call last)",
      "Cell \u001b[1;32mIn[13], line 1\u001b[0m\n\u001b[1;32m----> 1\u001b[0m pd\u001b[38;5;241m.\u001b[39mseries(a)\n",
      "\u001b[1;31mAttributeError\u001b[0m: module 'pandas' has no attribute 'series'"
     ]
    }
   ],
   "source": [
    "pd.series(a)"
   ]
  },
  {
   "cell_type": "markdown",
   "id": "5825074f-3759-4209-a222-519adb1d4df1",
   "metadata": {},
   "source": [
    "a=np.random.randint(20,50(5,4))\n",
    "a"
   ]
  },
  {
   "cell_type": "code",
   "execution_count": 10,
   "id": "64d274c4-6556-4062-b36c-76b3911c5641",
   "metadata": {},
   "outputs": [
    {
     "ename": "AttributeError",
     "evalue": "'list' object has no attribute 'ndim'",
     "output_type": "error",
     "traceback": [
      "\u001b[1;31m---------------------------------------------------------------------------\u001b[0m",
      "\u001b[1;31mAttributeError\u001b[0m                            Traceback (most recent call last)",
      "Cell \u001b[1;32mIn[10], line 1\u001b[0m\n\u001b[1;32m----> 1\u001b[0m a\u001b[38;5;241m.\u001b[39mndim\n",
      "\u001b[1;31mAttributeError\u001b[0m: 'list' object has no attribute 'ndim'"
     ]
    }
   ],
   "source": [
    "a.ndim"
   ]
  },
  {
   "cell_type": "code",
   "execution_count": null,
   "id": "5260d931-4ab0-4c6c-923f-19e13d7f3ca0",
   "metadata": {},
   "outputs": [],
   "source": []
  },
  {
   "cell_type": "code",
   "execution_count": 8,
   "id": "fe752e9e-1cce-425c-a585-e642c7fe5e23",
   "metadata": {},
   "outputs": [
    {
     "data": {
      "text/html": [
       "<div>\n",
       "<style scoped>\n",
       "    .dataframe tbody tr th:only-of-type {\n",
       "        vertical-align: middle;\n",
       "    }\n",
       "\n",
       "    .dataframe tbody tr th {\n",
       "        vertical-align: top;\n",
       "    }\n",
       "\n",
       "    .dataframe thead th {\n",
       "        text-align: right;\n",
       "    }\n",
       "</style>\n",
       "<table border=\"1\" class=\"dataframe\">\n",
       "  <thead>\n",
       "    <tr style=\"text-align: right;\">\n",
       "      <th></th>\n",
       "      <th>0</th>\n",
       "    </tr>\n",
       "  </thead>\n",
       "  <tbody>\n",
       "    <tr>\n",
       "      <th>0</th>\n",
       "      <td>4</td>\n",
       "    </tr>\n",
       "    <tr>\n",
       "      <th>1</th>\n",
       "      <td>6</td>\n",
       "    </tr>\n",
       "    <tr>\n",
       "      <th>2</th>\n",
       "      <td>2</td>\n",
       "    </tr>\n",
       "    <tr>\n",
       "      <th>3</th>\n",
       "      <td>9</td>\n",
       "    </tr>\n",
       "    <tr>\n",
       "      <th>4</th>\n",
       "      <td>87</td>\n",
       "    </tr>\n",
       "    <tr>\n",
       "      <th>5</th>\n",
       "      <td>40</td>\n",
       "    </tr>\n",
       "    <tr>\n",
       "      <th>6</th>\n",
       "      <td>20</td>\n",
       "    </tr>\n",
       "    <tr>\n",
       "      <th>7</th>\n",
       "      <td>55</td>\n",
       "    </tr>\n",
       "  </tbody>\n",
       "</table>\n",
       "</div>"
      ],
      "text/plain": [
       "    0\n",
       "0   4\n",
       "1   6\n",
       "2   2\n",
       "3   9\n",
       "4  87\n",
       "5  40\n",
       "6  20\n",
       "7  55"
      ]
     },
     "execution_count": 8,
     "metadata": {},
     "output_type": "execute_result"
    }
   ],
   "source": [
    "pd.DataFrame(a)"
   ]
  },
  {
   "cell_type": "code",
   "execution_count": 14,
   "id": "5c62640d-9129-4cf2-bb64-69dcefdda2fa",
   "metadata": {},
   "outputs": [
    {
     "ename": "NameError",
     "evalue": "name 'df' is not defined",
     "output_type": "error",
     "traceback": [
      "\u001b[1;31m---------------------------------------------------------------------------\u001b[0m",
      "\u001b[1;31mNameError\u001b[0m                                 Traceback (most recent call last)",
      "Cell \u001b[1;32mIn[14], line 1\u001b[0m\n\u001b[1;32m----> 1\u001b[0m df\u001b[38;5;241m.\u001b[39minfo()\n",
      "\u001b[1;31mNameError\u001b[0m: name 'df' is not defined"
     ]
    }
   ],
   "source": [
    "df.info()"
   ]
  },
  {
   "cell_type": "code",
   "execution_count": 2,
   "id": "535a3f86-0f18-47ea-bee4-507066bc380c",
   "metadata": {},
   "outputs": [],
   "source": [
    "import matplotlib.pyplot as plt\n",
    "import pandas as pd\n",
    "import seaborn as sns\n",
    "import warnings\n",
    "warnings.filterwarnings('ignore')"
   ]
  },
  {
   "cell_type": "code",
   "execution_count": null,
   "id": "e5abb0f8-5725-4fa9-aef2-684f8d9d2eea",
   "metadata": {},
   "outputs": [],
   "source": []
  }
 ],
 "metadata": {
  "kernelspec": {
   "display_name": "Python 3 (ipykernel)",
   "language": "python",
   "name": "python3"
  },
  "language_info": {
   "codemirror_mode": {
    "name": "ipython",
    "version": 3
   },
   "file_extension": ".py",
   "mimetype": "text/x-python",
   "name": "python",
   "nbconvert_exporter": "python",
   "pygments_lexer": "ipython3",
   "version": "3.12.7"
  }
 },
 "nbformat": 4,
 "nbformat_minor": 5
}
